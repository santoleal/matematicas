{
 "cells": [
  {
   "cell_type": "markdown",
   "metadata": {},
   "source": [
    "# **MATEMÁTICAS CON PYTHON** \n",
    "## 1. Primeras librerías de python"
   ]
  },
  {
   "cell_type": "markdown",
   "metadata": {},
   "source": [
    "#### Crear ambiente de desarrollo (Linux)"
   ]
  },
  {
   "cell_type": "code",
   "execution_count": null,
   "metadata": {},
   "outputs": [],
   "source": [
    "# 1. Crear en alguna carpeta específica - por ejemplo: \"/ENV\"\n",
    "# Códigos en shell Linux; se crea carpeta oculta (antecede el . )\n",
    "# python3 -m venv .NOMBRE-ENTORNO \n",
    "\n",
    "# 2. Se activa con el siguiente código:\n",
    "# cd .NOMBRE-ENTORNO\n",
    "# source ./bin/activate\n",
    "# o bien de forma directa:\n",
    "# source NOMBRE-ENTORNO/bin/activate\n",
    "\n",
    "# En la consola se le abrirá el entorno de desarrollo. Desde allí se puede administrar. Por ejemplo, instalar librerías específicas."
   ]
  },
  {
   "cell_type": "markdown",
   "metadata": {},
   "source": [
    "### Instalar paquete ipykernel, para trabajar con formato tipo Jupyter Notebook desde un IDE tipo VSCode o VSCodium."
   ]
  },
  {
   "cell_type": "code",
   "execution_count": 7,
   "metadata": {},
   "outputs": [],
   "source": [
    "# Desde cualquier posición en la consola, teniendo activo el entorno virtual, instala paquete:\n",
    "\n",
    "# pip install ipykernel"
   ]
  },
  {
   "cell_type": "markdown",
   "metadata": {},
   "source": [
    "### Importar librería math, con amplias funciones (módulos)"
   ]
  },
  {
   "cell_type": "code",
   "execution_count": 4,
   "metadata": {},
   "outputs": [],
   "source": [
    "# Importar librería básica, ya viene por defecto en python o en ipykernel, todavía no lo descubro.\n",
    "\n",
    "import math"
   ]
  },
  {
   "cell_type": "code",
   "execution_count": 6,
   "metadata": {},
   "outputs": [
    {
     "name": "stdout",
     "output_type": "stream",
     "text": [
      "4.0\n"
     ]
    }
   ],
   "source": [
    "# Ejemplo Raiz cuadrada\n",
    "resultado = math.sqrt(16)\n",
    "print(resultado)"
   ]
  },
  {
   "cell_type": "code",
   "execution_count": 8,
   "metadata": {},
   "outputs": [
    {
     "name": "stdout",
     "output_type": "stream",
     "text": [
      "Help on built-in function acos in module math:\n",
      "\n",
      "acos(x, /)\n",
      "    Return the arc cosine (measured in radians) of x.\n",
      "\n",
      "    The result is between 0 and pi.\n",
      "\n"
     ]
    }
   ],
   "source": [
    "# Con math y un . al final, en Notebook se despliega la lista de funciones asociadas.  \n",
    "\n",
    "# Si quiero saber más sobre alguna función, utilizar:\n",
    "\n",
    "help(math.acos)\n"
   ]
  },
  {
   "cell_type": "markdown",
   "metadata": {},
   "source": [
    "### Otras librerías para instalar, fundamentales para matemáticas"
   ]
  },
  {
   "cell_type": "markdown",
   "metadata": {},
   "source": [
    "- **Numpy:** base del cálculo numérico en Python. Eficiente en funciones y operaciones matemáticas. Bueno para trabajar con arreglos.\n"
   ]
  },
  {
   "cell_type": "code",
   "execution_count": 2,
   "metadata": {},
   "outputs": [],
   "source": [
    "# En caso que no esté, instalar con tu ambiente de desarrollo activo:\n",
    "# pip install numpy\n",
    "\n",
    "import numpy as np \n",
    "\n",
    "# link con más referencias: https://pypi.org/project/numpy/\n"
   ]
  },
  {
   "cell_type": "markdown",
   "metadata": {},
   "source": [
    "* **SciPy:** permite algoritmos más avanzados para optimización, integración, álgebra lineal, entre otros."
   ]
  },
  {
   "cell_type": "code",
   "execution_count": 4,
   "metadata": {},
   "outputs": [],
   "source": [
    "# pip install scipy\n",
    "\n",
    "import scipy\n",
    "\n",
    "# link referencias: https://pypi.org/project/scipy/"
   ]
  },
  {
   "cell_type": "markdown",
   "metadata": {},
   "source": [
    "* **SymPy:** Se usa para cálculos simbólicos, manipulación de expresiones algebraicas, cálculo diferencial e integral, etc."
   ]
  },
  {
   "cell_type": "code",
   "execution_count": 5,
   "metadata": {},
   "outputs": [],
   "source": [
    "# pip install sympy\n",
    "\n",
    "import sympy as sym\n",
    "\n",
    "# link referencias: https://pypi.org/project/sympy/"
   ]
  },
  {
   "cell_type": "markdown",
   "metadata": {},
   "source": [
    "* **Matplotlib:** para visualización de datos, gráficos de buena calidad en diversos formatos."
   ]
  },
  {
   "cell_type": "code",
   "execution_count": 7,
   "metadata": {},
   "outputs": [],
   "source": [
    "# pip install matplotlib\n",
    "\n",
    "import matplotlib as mpl\n",
    "# Link: https://pypi.org/project/matplotlib/"
   ]
  },
  {
   "cell_type": "markdown",
   "metadata": {},
   "source": [
    "* **Seaborn:** también es para visualización de datos, para estadísticas... "
   ]
  },
  {
   "cell_type": "code",
   "execution_count": 8,
   "metadata": {},
   "outputs": [],
   "source": [
    "# pip install seaborn\n",
    "\n",
    "import seaborn as sbn\n",
    "\n",
    "# link: https://pypi.org/project/seaborn/\n"
   ]
  },
  {
   "cell_type": "markdown",
   "metadata": {},
   "source": [
    "* **Pandas:** para análisis y manipulación de datos. Es fundamental para trabajar con DataFrames, que son parecidas a las hojas de cálculo, desde donde se pueden crear, leer, modificar o eliminar registros. Estructura de datos para análisis de datos, serie temporal, estadísticas."
   ]
  },
  {
   "cell_type": "code",
   "execution_count": 9,
   "metadata": {},
   "outputs": [],
   "source": [
    "# pip install pandas\n",
    "\n",
    "import pandas as pd\n",
    "\n",
    "\n",
    "# Link referencia: https://pypi.org/project/pandas/"
   ]
  },
  {
   "cell_type": "markdown",
   "metadata": {},
   "source": [
    "* **Scikit-learn:** Muy popular en Machine Learning, sea supervisado como no siupervisado."
   ]
  },
  {
   "cell_type": "code",
   "execution_count": 10,
   "metadata": {},
   "outputs": [],
   "source": [
    "# pip install scikit-learn\n",
    "from sklearn.linear_model import LinearRegression\n",
    "\n",
    "# Link: https://pypi.org/project/scikit-learn/"
   ]
  },
  {
   "cell_type": "markdown",
   "metadata": {},
   "source": [
    "### Ahora, crear archivo con librerías instaladas en tu entorno virtual.\n",
    "\n",
    "#### Esto permite reutilizar / reinstalar / compartir en otros entornos virtuales ."
   ]
  },
  {
   "cell_type": "code",
   "execution_count": null,
   "metadata": {},
   "outputs": [],
   "source": [
    "# En el entorno virtual activo (\"activate\")\n",
    "# Generar archivo requirements.txt , que es nombre estándar\n",
    "\n",
    "# pip freeze > requirements.txt"
   ]
  },
  {
   "cell_type": "markdown",
   "metadata": {},
   "source": [
    "#### Si se quiere recrear el entorno virtual, se debe importar de la siguiente forma:"
   ]
  },
  {
   "cell_type": "code",
   "execution_count": null,
   "metadata": {},
   "outputs": [],
   "source": [
    "# pip install -r requirements.txt"
   ]
  },
  {
   "cell_type": "markdown",
   "metadata": {},
   "source": [
    "#### Considerar eso sí:"
   ]
  },
  {
   "cell_type": "markdown",
   "metadata": {},
   "source": [
    "- No dejarla dentro de la misma carpeta del entorno virtual.\n",
    "- Utilizar .gitignore para que no esté en el control del versiones ni se publique\n",
    "- Hay otras opciones a pip freeze, como lo son pipenv o poetry, pero hay que dedicarle más tiempo a comprenderlas. "
   ]
  }
 ],
 "metadata": {
  "kernelspec": {
   "display_name": ".MATEMATICAS",
   "language": "python",
   "name": "python3"
  },
  "language_info": {
   "codemirror_mode": {
    "name": "ipython",
    "version": 3
   },
   "file_extension": ".py",
   "mimetype": "text/x-python",
   "name": "python",
   "nbconvert_exporter": "python",
   "pygments_lexer": "ipython3",
   "version": "3.12.3"
  }
 },
 "nbformat": 4,
 "nbformat_minor": 2
}

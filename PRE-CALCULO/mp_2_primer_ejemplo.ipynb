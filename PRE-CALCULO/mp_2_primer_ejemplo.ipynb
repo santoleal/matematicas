{
 "cells": [
  {
   "cell_type": "markdown",
   "metadata": {},
   "source": [
    "# **MATEMÁTICAS CON PYTHON** \n",
    "## 2. Primer ejemplo de Matemáticas con python"
   ]
  },
  {
   "cell_type": "markdown",
   "metadata": {},
   "source": [
    "#### Importar sympy, para cálculos simbólicos"
   ]
  },
  {
   "cell_type": "code",
   "execution_count": 5,
   "metadata": {},
   "outputs": [],
   "source": [
    "# A esta librería le cploco un alias, para que se haga más fácil el uso.\n",
    "import sympy as sym"
   ]
  },
  {
   "cell_type": "code",
   "execution_count": 3,
   "metadata": {},
   "outputs": [],
   "source": [
    "# creo dos variables de tipo simbólico\n",
    "x, n = sym.symbols(\"x, n\")\n"
   ]
  },
  {
   "cell_type": "code",
   "execution_count": 6,
   "metadata": {},
   "outputs": [
    {
     "name": "stdout",
     "output_type": "stream",
     "text": [
      "<class 'sympy.core.symbol.Symbol'>\n"
     ]
    }
   ],
   "source": [
    "# ¿Qué tipo de dato es X, entonces?\n",
    "print(type(x))"
   ]
  },
  {
   "cell_type": "markdown",
   "metadata": {},
   "source": [
    "#### Ahora, crear expresión matemática para que python la imprima"
   ]
  },
  {
   "cell_type": "code",
   "execution_count": 7,
   "metadata": {},
   "outputs": [],
   "source": [
    "expresion = (x**2-5*x-6)/(x**3-2*x**2+x)"
   ]
  },
  {
   "cell_type": "code",
   "execution_count": 10,
   "metadata": {},
   "outputs": [
    {
     "name": "stdout",
     "output_type": "stream",
     "text": [
      "(x**2 - 5*x - 6)/(x**3 - 2*x**2 + x)\n"
     ]
    }
   ],
   "source": [
    "# con el print\n",
    "print(expresion)"
   ]
  },
  {
   "cell_type": "code",
   "execution_count": 9,
   "metadata": {},
   "outputs": [
    {
     "data": {
      "text/latex": [
       "$\\displaystyle \\frac{x^{2} - 5 x - 6}{x^{3} - 2 x^{2} + x}$"
      ],
      "text/plain": [
       "(x**2 - 5*x - 6)/(x**3 - 2*x**2 + x)"
      ]
     },
     "execution_count": 9,
     "metadata": {},
     "output_type": "execute_result"
    }
   ],
   "source": [
    "# sin el print\n",
    "expresion"
   ]
  },
  {
   "cell_type": "code",
   "execution_count": 11,
   "metadata": {},
   "outputs": [
    {
     "data": {
      "text/latex": [
       "$\\displaystyle \\frac{\\left(x - 6\\right) \\left(x + 1\\right)}{x \\left(x - 1\\right)^{2}}$"
      ],
      "text/plain": [
       "(x - 6)*(x + 1)/(x*(x - 1)**2)"
      ]
     },
     "execution_count": 11,
     "metadata": {},
     "output_type": "execute_result"
    }
   ],
   "source": [
    "# Pedir que factorice\n",
    "expresion.factor()"
   ]
  },
  {
   "cell_type": "code",
   "execution_count": 12,
   "metadata": {},
   "outputs": [
    {
     "data": {
      "text/latex": [
       "$\\displaystyle -6$"
      ],
      "text/plain": [
       "-6"
      ]
     },
     "execution_count": 12,
     "metadata": {},
     "output_type": "execute_result"
    }
   ],
   "source": [
    "# Pedir que sustituya X\n",
    "expresion.subs({x:2})"
   ]
  },
  {
   "cell_type": "markdown",
   "metadata": {},
   "source": [
    "#### Ejemplo de cálculo integral"
   ]
  },
  {
   "cell_type": "code",
   "execution_count": 13,
   "metadata": {},
   "outputs": [
    {
     "data": {
      "text/latex": [
       "$\\displaystyle \\int \\left(x - 3\\right)^{- n}\\, dx$"
      ],
      "text/plain": [
       "Integral((x - 3)**(-n), x)"
      ]
     },
     "execution_count": 13,
     "metadata": {},
     "output_type": "execute_result"
    }
   ],
   "source": [
    "integral = sym.Integral(1/(x-3)**n, x)\n",
    "integral"
   ]
  },
  {
   "cell_type": "code",
   "execution_count": 14,
   "metadata": {},
   "outputs": [
    {
     "data": {
      "text/latex": [
       "$\\displaystyle \\begin{cases} \\frac{\\left(x - 3\\right)^{1 - n}}{1 - n} & \\text{for}\\: n \\neq 1 \\\\\\log{\\left(x - 3 \\right)} & \\text{otherwise} \\end{cases}$"
      ],
      "text/plain": [
       "Piecewise(((x - 3)**(1 - n)/(1 - n), Ne(n, 1)), (log(x - 3), True))"
      ]
     },
     "execution_count": 14,
     "metadata": {},
     "output_type": "execute_result"
    }
   ],
   "source": [
    "# Ahora que lo haga\n",
    "integral.doit()"
   ]
  },
  {
   "cell_type": "code",
   "execution_count": 15,
   "metadata": {},
   "outputs": [
    {
     "data": {
      "text/latex": [
       "$\\displaystyle - \\frac{1}{3 \\left(x - 3\\right)^{3}}$"
      ],
      "text/plain": [
       "-1/(3*(x - 3)**3)"
      ]
     },
     "execution_count": 15,
     "metadata": {},
     "output_type": "execute_result"
    }
   ],
   "source": [
    "# Otra solución si se sustituye n por número cualquiera\n",
    "\n",
    "solucion = integral.doit().subs({n: 4})\n",
    "\n",
    "solucion\n"
   ]
  },
  {
   "cell_type": "markdown",
   "metadata": {},
   "source": [
    "### Importar otras librerías para graficar"
   ]
  },
  {
   "cell_type": "code",
   "execution_count": 16,
   "metadata": {},
   "outputs": [],
   "source": [
    "# Importar Numpy y Matplotlib\n",
    "import numpy as np\n",
    "import matplotlib.pyplot as plt"
   ]
  },
  {
   "cell_type": "code",
   "execution_count": 17,
   "metadata": {},
   "outputs": [],
   "source": [
    "# La expresión simbólica la paso a expresión numérica\n",
    "fnumerica = sym.lambdify(x, solucion, \"numpy\")\n",
    "\n",
    "#creo dominio para la función\n",
    "dominiox = np.linspace(0,6,100)\n",
    "\n",
    "# creo valores, rango para esa función\n",
    "yy = fnumerica(dominiox)\n",
    "\n",
    "# ajustar valores. Que no se esté más allá del -20 y 20\n",
    "yy[abs(yy)> 20] = np.nan "
   ]
  },
  {
   "cell_type": "code",
   "execution_count": 18,
   "metadata": {},
   "outputs": [
    {
     "data": {
      "image/png": "[encoded data removed]",
      "text/plain": [
       "<Figure size 640x480 with 1 Axes>"
      ]
     },
     "metadata": {},
     "output_type": "display_data"
    }
   ],
   "source": [
    "# Ahora a graficar\n",
    "\n",
    "plt.plot(dominiox, yy)\n",
    "plt.grid() # rejilla\n",
    "plt.show()\n"
   ]
  }
 ],
 "metadata": {
  "kernelspec": {
   "display_name": ".MATEMATICAS",
   "language": "python",
   "name": "python3"
  },
  "language_info": {
   "codemirror_mode": {
    "name": "ipython",
    "version": 3
   },
   "file_extension": ".py",
   "mimetype": "text/x-python",
   "name": "python",
   "nbconvert_exporter": "python",
   "pygments_lexer": "ipython3",
   "version": "3.12.3"
  }
 },
 "nbformat": 4,
 "nbformat_minor": 2
}
